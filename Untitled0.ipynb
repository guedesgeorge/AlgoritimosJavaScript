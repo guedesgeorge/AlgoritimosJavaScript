{
  "nbformat": 4,
  "nbformat_minor": 0,
  "metadata": {
    "colab": {
      "provenance": [],
      "mount_file_id": "1-72IE7wD8CruWSibpclSkSfc2VdEnKiZ",
      "authorship_tag": "ABX9TyOlURdu2CCqbClKgX1aMjhQ",
      "include_colab_link": true
    },
    "kernelspec": {
      "name": "python3",
      "display_name": "Python 3"
    },
    "language_info": {
      "name": "python"
    }
  },
  "cells": [
    {
      "cell_type": "markdown",
      "metadata": {
        "id": "view-in-github",
        "colab_type": "text"
      },
      "source": [
        "<a href=\"https://colab.research.google.com/github/guedesgeorge/AlgoritimosJavaScript/blob/main/Untitled0.ipynb\" target=\"_parent\"><img src=\"https://colab.research.google.com/assets/colab-badge.svg\" alt=\"Open In Colab\"/></a>"
      ]
    },
    {
      "cell_type": "code",
      "execution_count": null,
      "metadata": {
        "id": "CSbZQLjuhxIX"
      },
      "outputs": [],
      "source": []
    },
    {
      "cell_type": "markdown",
      "source": [],
      "metadata": {
        "id": "xwOOu-gImR_k"
      }
    },
    {
      "cell_type": "markdown",
      "source": [
        "## Aqui usaremos para fazer nossa documentação\n",
        "\n",
        "\n",
        "Em ciencia da dados é importante documentar todas nossas tarefas realizadas\n",
        "\n",
        "Quando escrevemos um trecho de codigo complexo é essencial que escrevemso comentarios a respeito daquele codigo para uma abordagem futura eu entender o que fiz\n",
        "\n"
      ],
      "metadata": {
        "id": "UQ3JdRIQifo_"
      }
    },
    {
      "cell_type": "code",
      "source": [
        "print(\"Hello World!\")"
      ],
      "metadata": {
        "colab": {
          "base_uri": "https://localhost:8080/"
        },
        "id": "U7B0bBU0kF9p",
        "outputId": "fe65adef-c8e8-47ec-e944-d74b13663eb3"
      },
      "execution_count": null,
      "outputs": [
        {
          "output_type": "stream",
          "name": "stdout",
          "text": [
            "Hello World!\n"
          ]
        }
      ]
    },
    {
      "cell_type": "code",
      "source": [
        "print(\"Olá\") # para printar"
      ],
      "metadata": {
        "colab": {
          "base_uri": "https://localhost:8080/"
        },
        "id": "oYLPGQf8kXrj",
        "outputId": "3e2c2b57-b4ba-405e-8581-d9d8cf5c60f5"
      },
      "execution_count": null,
      "outputs": [
        {
          "output_type": "stream",
          "name": "stdout",
          "text": [
            "Olá\n"
          ]
        }
      ]
    },
    {
      "cell_type": "code",
      "source": [
        "from google.colab import drive\n",
        "drive.mount('/content/drive')"
      ],
      "metadata": {
        "id": "VVbUriV5lXdK"
      },
      "execution_count": null,
      "outputs": []
    },
    {
      "cell_type": "markdown",
      "source": [
        "# Variaveis e tipo de Dados\n",
        "\n",
        "Quando for declarar as variaveis evitar variveis genericas colocar variaves que fazem sentindo\n",
        "\n",
        "\n"
      ],
      "metadata": {
        "id": "8CbfnlhYoxMf"
      }
    },
    {
      "cell_type": "code",
      "source": [
        "nome = \"George Guedes\"\n",
        "idade = 22\n",
        "altura = 1.85\n",
        "salario = 3018"
      ],
      "metadata": {
        "id": "T2SK5Fpqo4sO"
      },
      "execution_count": null,
      "outputs": []
    },
    {
      "cell_type": "code",
      "source": [
        "# Tipos de dados básicos em Python\n",
        "cliente = \"José da silva\"\n",
        "type(cliente) #type é para ver o tipo de dado em python"
      ],
      "metadata": {
        "id": "BuHIWucTpcYx",
        "colab": {
          "base_uri": "https://localhost:8080/"
        },
        "outputId": "9df54a5b-13ab-4d8b-c74f-99d4225fd150"
      },
      "execution_count": null,
      "outputs": [
        {
          "output_type": "execute_result",
          "data": {
            "text/plain": [
              "str"
            ]
          },
          "metadata": {},
          "execution_count": 1
        }
      ]
    },
    {
      "cell_type": "code",
      "source": [
        "idade = 22\n",
        "type(idade)"
      ],
      "metadata": {
        "colab": {
          "base_uri": "https://localhost:8080/"
        },
        "id": "wQXdnfCTqlfL",
        "outputId": "aa7b5864-45ab-46b6-fa19-4ba26a854c7d"
      },
      "execution_count": null,
      "outputs": [
        {
          "output_type": "execute_result",
          "data": {
            "text/plain": [
              "int"
            ]
          },
          "metadata": {},
          "execution_count": 2
        }
      ]
    },
    {
      "cell_type": "markdown",
      "source": [
        "Saida de Dados em Python\n",
        "\n",
        "\n",
        "Em python temos o \"sep\" ele serve como separador exemplo:\n",
        "\n",
        "print(25,04,2025) sep \"/\"\n",
        "\n",
        "O operador sep ira imprimir formnatado com 25/04/2025"
      ],
      "metadata": {
        "id": "XdOMgO-Nq90k"
      }
    },
    {
      "cell_type": "code",
      "source": [
        "print(\"Olá Mundo!\")"
      ],
      "metadata": {
        "id": "0-1xG_JQrMmK"
      },
      "execution_count": null,
      "outputs": []
    },
    {
      "cell_type": "markdown",
      "source": [],
      "metadata": {
        "id": "ewyKCZpemOQk"
      }
    },
    {
      "cell_type": "code",
      "source": [],
      "metadata": {
        "id": "u1gaJbXcsFlq"
      },
      "execution_count": null,
      "outputs": []
    },
    {
      "cell_type": "code",
      "source": [
        "# Imprimindo valores de variaveis\n",
        "\n",
        "email = \"george.emannuelcarvalho@gmail.com\"\n",
        "idade = 22\n",
        "altura = 1.88;\n",
        "\n",
        "print(\"Endereço de email: \", email, \"idade: \", idade, \"altura\", altura)"
      ],
      "metadata": {
        "colab": {
          "base_uri": "https://localhost:8080/"
        },
        "id": "D2VqLaAnrmc5",
        "outputId": "31f49be3-6063-4902-ce58-f3cb8eea2ce9"
      },
      "execution_count": null,
      "outputs": [
        {
          "output_type": "stream",
          "name": "stdout",
          "text": [
            "Endereço de email:  george.emannuelcarvalho@gmail.com idade:  22 altura 1.88\n"
          ]
        }
      ]
    },
    {
      "cell_type": "code",
      "source": [
        "# Prametro Sep\n",
        "dia = 25\n",
        "mes = 4\n",
        "ano = 2025\n",
        "\n",
        "print(dia,mes,ano, sep = \"/\")"
      ],
      "metadata": {
        "colab": {
          "base_uri": "https://localhost:8080/"
        },
        "id": "pvPcuO-ltm8V",
        "outputId": "014844f9-6930-4e55-8a37-43b14072c179"
      },
      "execution_count": null,
      "outputs": [
        {
          "output_type": "stream",
          "name": "stdout",
          "text": [
            "25/4/2025\n"
          ]
        }
      ]
    },
    {
      "cell_type": "code",
      "source": [
        "# Parametro end\n",
        "\n",
        "# Este parametro, é para que quando printamos ele ele pula para proxima linha mas coloca virgula\n",
        "\n",
        "print(\"Laranja\",  end = \",\")\n",
        "print(\"Uva\", end = \",\" )\n",
        "print(\"Morango\",  end = \",\")"
      ],
      "metadata": {
        "colab": {
          "base_uri": "https://localhost:8080/"
        },
        "id": "N-K8zMnHuQuO",
        "outputId": "d77592ef-b0be-43bb-c7a0-23a47d789730"
      },
      "execution_count": null,
      "outputs": [
        {
          "output_type": "stream",
          "name": "stdout",
          "text": [
            "Laranja,Uva,Morango,"
          ]
        }
      ]
    },
    {
      "cell_type": "markdown",
      "source": [
        "# Entrada de dados em Python\n",
        "\n",
        "Onde o usuario fornece a entrada"
      ],
      "metadata": {
        "id": "C17qBNtevs1M"
      }
    },
    {
      "cell_type": "code",
      "source": [
        "#input comando para entrada de dados\n",
        "\n",
        "nome = input(\"Digite seu nome\")\n",
        "print(nome)\n",
        "\n"
      ],
      "metadata": {
        "colab": {
          "base_uri": "https://localhost:8080/"
        },
        "id": "f5PIItVwv103",
        "outputId": "fa8cb24f-5c5c-4ca3-8b3f-ae1d95e326a5"
      },
      "execution_count": null,
      "outputs": [
        {
          "output_type": "stream",
          "name": "stdout",
          "text": [
            "Digite seu nomegeorge\n",
            "george\n"
          ]
        }
      ]
    },
    {
      "cell_type": "code",
      "source": [
        "# Lendo um numero interio\n",
        "idade = input(\"Digite sua idade \")\n",
        "print(idade)\n"
      ],
      "metadata": {
        "colab": {
          "base_uri": "https://localhost:8080/"
        },
        "id": "-Fm50YG9w6UC",
        "outputId": "485fd331-fa42-4a92-bad1-3221b772bd8c"
      },
      "execution_count": null,
      "outputs": [
        {
          "output_type": "stream",
          "name": "stdout",
          "text": [
            "Digite sua idade 22\n",
            "22\n"
          ]
        }
      ]
    },
    {
      "cell_type": "code",
      "source": [
        "type(idade)\n",
        "\n",
        "# por que aqui o retorno da de uma string?\n",
        "Por que o input ele não faz a conversão ele entende que todo entrada é uma string"
      ],
      "metadata": {
        "colab": {
          "base_uri": "https://localhost:8080/"
        },
        "id": "-SPpWcPUxI5y",
        "outputId": "2c075e14-e2c5-4996-cdbe-a0f06ca407d3"
      },
      "execution_count": null,
      "outputs": [
        {
          "output_type": "execute_result",
          "data": {
            "text/plain": [
              "str"
            ]
          },
          "metadata": {},
          "execution_count": 29
        }
      ]
    },
    {
      "cell_type": "markdown",
      "source": [
        "# Casting\n",
        "\n",
        "Em qualquer linguagem uma entrada de dados é uma String.\n",
        "Para dar um retonro de inteiro ou booleano temos que fazer um Casting\n"
      ],
      "metadata": {
        "id": "BzMtnENpkj6n"
      }
    },
    {
      "cell_type": "code",
      "source": [
        "\n",
        "\n",
        "# Lendo e convertendo um input para um int utilizando casting\n",
        "idade =  int(input(\" Digite sua idade\" ))\n",
        "type(idade)\n"
      ],
      "metadata": {
        "colab": {
          "base_uri": "https://localhost:8080/"
        },
        "id": "o_-NFOi2xklX",
        "outputId": "cc1e4ddf-4694-4628-b488-2c7b917c70e3"
      },
      "execution_count": null,
      "outputs": [
        {
          "name": "stdout",
          "output_type": "stream",
          "text": [
            " Digite sua idade22\n"
          ]
        },
        {
          "output_type": "execute_result",
          "data": {
            "text/plain": [
              "int"
            ]
          },
          "metadata": {},
          "execution_count": 34
        }
      ]
    },
    {
      "cell_type": "code",
      "source": [
        "# exemplo de print e input\n",
        "\n",
        "produto = input(\"Digite o nome do produto\")\n",
        "preco = input(\"Digite o preço do produto\")\n",
        "quantidade = input(\"Digite a quantidade do produto\")\n",
        "\n",
        "print(\"Nome do produto\", produto, \"preço do produto\", preco, \"quantidade do produto\", quantidade)"
      ],
      "metadata": {
        "colab": {
          "base_uri": "https://localhost:8080/"
        },
        "id": "J3uxs-QE0fOq",
        "outputId": "8b3cf238-ddf7-4939-afc4-d0f1d13eb857"
      },
      "execution_count": null,
      "outputs": [
        {
          "output_type": "stream",
          "name": "stdout",
          "text": [
            "Digite o nome do produtomoto\n",
            "Digite o preço do produto19000\n",
            "Digite a quantidade do produto1\n",
            "Nome do produto moto preço do produto 19000 quantidade do produto 1\n"
          ]
        }
      ]
    },
    {
      "cell_type": "markdown",
      "source": [
        "Operadores Aritimeticos\n"
      ],
      "metadata": {
        "id": "vbesq6QY-Vgr"
      }
    },
    {
      "cell_type": "markdown",
      "source": [],
      "metadata": {
        "id": "Xd3-8xxu-VWZ"
      }
    },
    {
      "cell_type": "code",
      "source": [
        "# Operador de potencia\n",
        "a = 2\n",
        "b = 3\n",
        "\n",
        "pot = a ** b\n",
        "print(pot)"
      ],
      "metadata": {
        "colab": {
          "base_uri": "https://localhost:8080/"
        },
        "id": "ythstojN_F86",
        "outputId": "68951bef-bbd5-46b0-feae-3f1c87f13312"
      },
      "execution_count": null,
      "outputs": [
        {
          "output_type": "stream",
          "name": "stdout",
          "text": [
            "8\n"
          ]
        }
      ]
    },
    {
      "cell_type": "markdown",
      "source": [
        "# Operadores Relacionais\n",
        "\n",
        "Os operadores relacionais servem para comparar valores. O resultado de uma comparação sera um valor booleano: True(verdadeiro) False(Falso)\n",
        "\n",
        "É muito utilizado em estrtura de decições como (if else) (while)\n",
        "\n",
        "\n",
        "\n"
      ],
      "metadata": {
        "id": "VV2Dx0YvA9gc"
      }
    },
    {
      "cell_type": "code",
      "source": [
        "a = 10\n",
        "b = 10\n",
        "\n",
        "a == b\n",
        "\n",
        "# este é o operador para comparar se são iguais\n",
        "\n",
        "# tempos que cuidar na hora de comparar com string o python e case sensitive\n",
        "\n",
        "nome = \"josé\"\n",
        "\n",
        "nome == \"José\" # como eu comparei o valor Jose com J maisculo da false"
      ],
      "metadata": {
        "colab": {
          "base_uri": "https://localhost:8080/"
        },
        "id": "8BX3Zx93BqgE",
        "outputId": "0eaa491b-14a8-4091-a72e-f4f24d9da882"
      },
      "execution_count": null,
      "outputs": [
        {
          "output_type": "execute_result",
          "data": {
            "text/plain": [
              "False"
            ]
          },
          "metadata": {},
          "execution_count": 47
        }
      ]
    },
    {
      "cell_type": "code",
      "source": [
        "# diferente de !=\n",
        "\n",
        "a = 5\n",
        "b = 6\n",
        "\n",
        "a != b"
      ],
      "metadata": {
        "colab": {
          "base_uri": "https://localhost:8080/"
        },
        "id": "iZmr-GDvDmpo",
        "outputId": "7b689c92-e716-4eff-a6cf-86825e62f23b"
      },
      "execution_count": null,
      "outputs": [
        {
          "output_type": "execute_result",
          "data": {
            "text/plain": [
              "True"
            ]
          },
          "metadata": {},
          "execution_count": 48
        }
      ]
    },
    {
      "cell_type": "code",
      "source": [
        "# diferente de String\n",
        "\n",
        "fruta = \"Laranja\"\n",
        "\n",
        "fruta != \"Morango\""
      ],
      "metadata": {
        "colab": {
          "base_uri": "https://localhost:8080/"
        },
        "id": "2DbZX5zVD0GZ",
        "outputId": "b55d267c-cda2-41a3-b261-059836eb373f"
      },
      "execution_count": null,
      "outputs": [
        {
          "output_type": "execute_result",
          "data": {
            "text/plain": [
              "True"
            ]
          },
          "metadata": {},
          "execution_count": 49
        }
      ]
    },
    {
      "cell_type": "markdown",
      "source": [
        "# Operadores Lógicos\n",
        "\n",
        "Operador E\n",
        "Operador OU\n",
        "Operador AND"
      ],
      "metadata": {
        "id": "ZHTmVl4qEC01"
      }
    },
    {
      "cell_type": "code",
      "source": [
        "#operador E\n",
        "idade = 25\n",
        "tem_carteira = True\n",
        "\n",
        "idade >= 18 and tem_carteira\n",
        "# O operador \"and\" so dar True se todas as expressões forem verdadeira se uma dar false todo o algoritimo é false"
      ],
      "metadata": {
        "colab": {
          "base_uri": "https://localhost:8080/"
        },
        "id": "jksFhmuMEbkb",
        "outputId": "461a3ce8-4b3f-4c4f-e9ae-630e406a0293"
      },
      "execution_count": null,
      "outputs": [
        {
          "output_type": "execute_result",
          "data": {
            "text/plain": [
              "True"
            ]
          },
          "metadata": {},
          "execution_count": 52
        }
      ]
    },
    {
      "cell_type": "code",
      "source": [
        "#Operador OU basta que uma operação seja verdadeira apara outras também :)\n",
        "\n",
        "ingresso = True\n",
        "nome_lista = False\n",
        "\n",
        "ingresso or nome_lista"
      ],
      "metadata": {
        "colab": {
          "base_uri": "https://localhost:8080/"
        },
        "id": "kd4vGSFNFxds",
        "outputId": "96e6a4cf-4466-42bb-c96c-59e30cecf789"
      },
      "execution_count": null,
      "outputs": [
        {
          "output_type": "execute_result",
          "data": {
            "text/plain": [
              "True"
            ]
          },
          "metadata": {},
          "execution_count": 53
        }
      ]
    },
    {
      "cell_type": "code",
      "source": [
        "#Operador Não este operador inverte os valores\n",
        "\n",
        "logado = False\n",
        "\n",
        "not logado"
      ],
      "metadata": {
        "colab": {
          "base_uri": "https://localhost:8080/"
        },
        "id": "UEXELYldGUK6",
        "outputId": "8d34fbae-40d2-4798-bf3d-9d935b5eb078"
      },
      "execution_count": null,
      "outputs": [
        {
          "output_type": "execute_result",
          "data": {
            "text/plain": [
              "True"
            ]
          },
          "metadata": {},
          "execution_count": 56
        }
      ]
    },
    {
      "cell_type": "code",
      "source": [
        "# Prioridade de dos operadores\n",
        "\n",
        " parentese ()\n",
        " 1) not\n",
        " 2) and\n",
        " 3) or\n",
        "\n",
        " essa é a ordem de precedencia de quais operadores serão executados primeiros :)"
      ],
      "metadata": {
        "id": "c7Q8VbzRGzGn"
      },
      "execution_count": null,
      "outputs": []
    },
    {
      "cell_type": "code",
      "source": [
        "# Verificar o resultado seguindo a ordem de precedencia\n",
        "a = True\n",
        "b = False\n",
        "c = True\n",
        "\n",
        "resultado = not a or b and c\n",
        "print(resultado)\n",
        "\n",
        "# ordem de precedencia\n",
        "false or b and c\n",
        "false or false\n",
        "false"
      ],
      "metadata": {
        "colab": {
          "base_uri": "https://localhost:8080/",
          "height": 224
        },
        "id": "XZlNxTtOHhK6",
        "outputId": "77649e44-dda9-451f-886f-aa6e99104ef2"
      },
      "execution_count": null,
      "outputs": [
        {
          "output_type": "stream",
          "name": "stdout",
          "text": [
            "False\n"
          ]
        },
        {
          "output_type": "error",
          "ename": "NameError",
          "evalue": "name 'false' is not defined",
          "traceback": [
            "\u001b[0;31m---------------------------------------------------------------------------\u001b[0m",
            "\u001b[0;31mNameError\u001b[0m                                 Traceback (most recent call last)",
            "\u001b[0;32m/tmp/ipython-input-2756784981.py\u001b[0m in \u001b[0;36m<cell line: 0>\u001b[0;34m()\u001b[0m\n\u001b[1;32m      8\u001b[0m \u001b[0;34m\u001b[0m\u001b[0m\n\u001b[1;32m      9\u001b[0m \u001b[0;31m# ordem de precedencia\u001b[0m\u001b[0;34m\u001b[0m\u001b[0;34m\u001b[0m\u001b[0m\n\u001b[0;32m---> 10\u001b[0;31m \u001b[0mfalse\u001b[0m \u001b[0;32mor\u001b[0m \u001b[0mb\u001b[0m \u001b[0;32mand\u001b[0m \u001b[0mc\u001b[0m\u001b[0;34m\u001b[0m\u001b[0;34m\u001b[0m\u001b[0m\n\u001b[0m\u001b[1;32m     11\u001b[0m \u001b[0mfalse\u001b[0m \u001b[0;32mor\u001b[0m \u001b[0mfalse\u001b[0m\u001b[0;34m\u001b[0m\u001b[0;34m\u001b[0m\u001b[0m\n\u001b[1;32m     12\u001b[0m \u001b[0mfalse\u001b[0m\u001b[0;34m\u001b[0m\u001b[0;34m\u001b[0m\u001b[0m\n",
            "\u001b[0;31mNameError\u001b[0m: name 'false' is not defined"
          ]
        }
      ]
    },
    {
      "cell_type": "markdown",
      "source": [],
      "metadata": {
        "id": "qRQfi65LLecf"
      }
    },
    {
      "cell_type": "markdown",
      "source": [],
      "metadata": {
        "id": "kmVsFVd6MYci"
      }
    },
    {
      "cell_type": "code",
      "source": [
        "# Verificar pessoas que moram em são paulo e são maiores de 18 anos\n",
        "\n",
        "cidade = \"São Pualo\"\n",
        "idade = 25\n",
        "\n",
        "cidade == 'São Paulo' and idade >= 18"
      ],
      "metadata": {
        "colab": {
          "base_uri": "https://localhost:8080/"
        },
        "id": "TaaaDmMEL50i",
        "outputId": "70ea5cce-d505-4b83-94fa-166b041652ff"
      },
      "execution_count": null,
      "outputs": [
        {
          "output_type": "execute_result",
          "data": {
            "text/plain": [
              "False"
            ]
          },
          "metadata": {},
          "execution_count": 63
        }
      ]
    },
    {
      "cell_type": "markdown",
      "source": [
        "# Operadores de operação"
      ],
      "metadata": {
        "id": "53ECOsMCNTXO"
      }
    },
    {
      "cell_type": "code",
      "source": [
        "# Operadores de operação simples  (=)\n",
        "\n",
        "\n",
        "nome = \"joao\"\n",
        "idade = 25\n"
      ],
      "metadata": {
        "id": "iWoSSK-ENDHT"
      },
      "execution_count": null,
      "outputs": []
    },
    {
      "cell_type": "code",
      "source": [
        "#Operadores de atribuição em soma (+)\n",
        "\n",
        "qtd = 5\n",
        "\n",
        "# qtd = qtd + 3\n",
        "# print(qtd)\n",
        "\n",
        "qtd += 3\n",
        "print(qtd)"
      ],
      "metadata": {
        "colab": {
          "base_uri": "https://localhost:8080/"
        },
        "id": "1MCQWUjvNgkz",
        "outputId": "fb3cf6f6-6151-4774-f0ce-84e3f3884d1f"
      },
      "execution_count": null,
      "outputs": [
        {
          "output_type": "stream",
          "name": "stdout",
          "text": [
            "8\n"
          ]
        }
      ]
    },
    {
      "cell_type": "code",
      "source": [
        "#Operador de atribuição com subtração (-=)\n",
        "\n",
        "qtd = 8\n",
        "qtd = qtd - 2\n",
        "print (qtd)"
      ],
      "metadata": {
        "colab": {
          "base_uri": "https://localhost:8080/"
        },
        "id": "mPlHC5t0PUso",
        "outputId": "a066e3f2-2a7e-445e-9a0c-650534b5646d"
      },
      "execution_count": null,
      "outputs": [
        {
          "output_type": "stream",
          "name": "stdout",
          "text": [
            "6\n"
          ]
        }
      ]
    },
    {
      "cell_type": "markdown",
      "source": [],
      "metadata": {
        "id": "0Wm-40ANSK8M"
      }
    },
    {
      "cell_type": "markdown",
      "source": [
        "# Estrturas Condicionais\n",
        "\n",
        "Essas estruturas são utilizadas para que o programa tome uma decisão com base em uma condição, que pode ser verdadeira ou falsa.\n",
        "Caso seja verdadeira ela realiza uma instrução caso seja falsa realiza outra"
      ],
      "metadata": {
        "id": "Q2QNylMpRV29"
      }
    },
    {
      "cell_type": "code",
      "source": [
        "# sintaxe do comando IF ELSE\n",
        "\n",
        "'''\n",
        "if condicao: (se condicao for verdadeira )\n",
        "    executa esse bloco de comando\n",
        "else\n",
        "'''\n",
        "\n",
        "\n",
        "idade = 25\n",
        "\n",
        "if idade >= 18:\n",
        "  print(\"voce é maior de 18 anos\")\n",
        "else:\n",
        "  print(\"voce é menor de idade\")\n"
      ],
      "metadata": {
        "colab": {
          "base_uri": "https://localhost:8080/"
        },
        "id": "BZ3IFtYhSNq5",
        "outputId": "31cda887-9fb1-436b-8329-5ea18bf62139"
      },
      "execution_count": null,
      "outputs": [
        {
          "output_type": "stream",
          "name": "stdout",
          "text": [
            "voce é maior de 18 anos\n"
          ]
        }
      ]
    },
    {
      "cell_type": "markdown",
      "source": [
        "#Sintaxe do comando if-elif-else\n",
        "\n"
      ],
      "metadata": {
        "id": "VnQA2Cf6syFT"
      }
    },
    {
      "cell_type": "code",
      "source": [
        "'''\n",
        "if condicao: (Se a condição for verdadeira)\n",
        "    Executa esse bloco de comando\n",
        "elif condição2: (Se a condição 2 for verdadeira)\n",
        "    Executa esse bloco\n",
        "elif condição3: (Se a condição 3 for verdadeira)\n",
        "    Executa esse bloc\n",
        "else:\n",
        "  Executa esse comando\n",
        "\n",
        "'''"
      ],
      "metadata": {
        "id": "TFuud6h-s28J"
      },
      "execution_count": null,
      "outputs": []
    },
    {
      "cell_type": "code",
      "source": [
        "#Exemplo if_elif-else\n",
        "\n",
        "idade = 25\n",
        "\n",
        "if idade <= 18:\n",
        "  print(\"Você é adolecente!\")\n",
        "elif idade < 65:\n",
        "  print(\"Você é um adulto\")\n",
        "else:\n",
        "  print(\"Você é um idoso\")"
      ],
      "metadata": {
        "colab": {
          "base_uri": "https://localhost:8080/"
        },
        "id": "4JfCmrGetuG5",
        "outputId": "7301e8c9-c37c-49bb-9938-fc714876d1b2"
      },
      "execution_count": null,
      "outputs": [
        {
          "output_type": "stream",
          "name": "stdout",
          "text": [
            "Você é um adulto\n"
          ]
        }
      ]
    },
    {
      "cell_type": "code",
      "source": [
        "#Exemplo utilizando operadores logicos\n",
        "\n",
        "idade = 18\n",
        "tem_carteira = True\n",
        "\n",
        "if  idade >= 18 and tem_carteira:\n",
        "  print(\"Você pode dirigir!\")\n",
        "else:\n",
        "  print(\"Você nao pode tirar a carteira e nem dirigir!\")"
      ],
      "metadata": {
        "colab": {
          "base_uri": "https://localhost:8080/"
        },
        "id": "cPtE7HzEuWvN",
        "outputId": "a17cf2ca-4ebc-48f0-dc44-2140715ebb3c"
      },
      "execution_count": null,
      "outputs": [
        {
          "output_type": "stream",
          "name": "stdout",
          "text": [
            "Você pode dirigir\n"
          ]
        }
      ]
    },
    {
      "cell_type": "markdown",
      "source": [
        "#Laço de repetição FOR\n",
        "\n",
        "O for é usado como uma estrutura de repetição usada para percorrrer uma sequencia de dados como. listas,\n",
        "strings, intervalos numéricos, entre outros\n",
        "\n",
        "#Importante!!!!"
      ],
      "metadata": {
        "id": "WBA2UI25vOll"
      }
    },
    {
      "cell_type": "code",
      "source": [
        "#Sintaxe do comando for\n",
        "\n",
        "'''\n",
        "\n",
        "for variavel in sequencia:\n",
        "  Executa esse bloco de comando\n",
        "\n",
        "'''\n"
      ],
      "metadata": {
        "id": "PhGT2k9GvRAZ"
      },
      "execution_count": null,
      "outputs": []
    },
    {
      "cell_type": "code",
      "source": [
        "#Exemplo de for com String\n",
        "\n",
        "# É um laço de repetição onde a variavel x recebe os caracteres de cada String\n",
        "for x in \"Python para dados\":\n",
        "  print(x)\n",
        "\n"
      ],
      "metadata": {
        "colab": {
          "base_uri": "https://localhost:8080/"
        },
        "id": "ixMF1RuOv44w",
        "outputId": "2347b098-5330-4128-b3e1-9042b1f093a1"
      },
      "execution_count": null,
      "outputs": [
        {
          "output_type": "stream",
          "name": "stdout",
          "text": [
            "P\n",
            "y\n",
            "t\n",
            "h\n",
            "o\n",
            "n\n",
            " \n",
            "p\n",
            "a\n",
            "r\n",
            "a\n",
            " \n",
            "d\n",
            "a\n",
            "d\n",
            "o\n",
            "s\n"
          ]
        }
      ]
    },
    {
      "cell_type": "code",
      "source": [
        "#Exemplo de for com listas\n",
        "\n",
        "# Aqui eu tenho 4 nomes e quero percorrer cada um e ir printando na tela\n",
        "nomes = [\"George\", \"Oswaldo\", \"Murilo\", \"Leticia\"]\n",
        "\n",
        "# Aqui ira percorrer cada variavel\n",
        "for i in nomes:\n",
        "  print(i)\n",
        "\n",
        "# se eu printar direto ele nao irar percorrer um por um\n",
        "print(nomes)"
      ],
      "metadata": {
        "colab": {
          "base_uri": "https://localhost:8080/"
        },
        "id": "z-4ReZMdww_8",
        "outputId": "8a4f31c4-ae79-42e3-821e-e466eb2c4ab1"
      },
      "execution_count": null,
      "outputs": [
        {
          "output_type": "stream",
          "name": "stdout",
          "text": [
            "George\n",
            "Oswaldo\n",
            "Murilo\n",
            "Leticia\n",
            "['George', 'Oswaldo', 'Murilo', 'Leticia']\n"
          ]
        }
      ]
    },
    {
      "cell_type": "code",
      "source": [
        "# For in range - sintaxe\n",
        "# Essa é muito usado em valores snúmericos\n",
        "\n",
        "'''\n",
        "- Estrtura For in Range\n",
        "\n",
        "# Aqui eu tenho que definir qual numero ira começar meu for e qual ira terminar\n",
        "\n",
        "for i in range (inicio, fim, passo)\n",
        "1) for i in range(fim) inicio = 0, passo = 1\n",
        "\n",
        "2) for i in range(inicio, fim) passo = 1\n",
        "\n",
        "3) for i in range (incio, fim, passo)\n",
        "\n",
        "'''\n",
        "\n"
      ],
      "metadata": {
        "id": "uGqwnQn2xcyo"
      },
      "execution_count": null,
      "outputs": []
    },
    {
      "cell_type": "code",
      "source": [
        "# neste for iremos percorrer uma lista com 10 numeros e iremos printar do (0 ate 10)\n",
        "for i in range(10):\n",
        "  print(i)"
      ],
      "metadata": {
        "colab": {
          "base_uri": "https://localhost:8080/"
        },
        "id": "oskO4uKWyJTA",
        "outputId": "bf46136b-f385-4377-e3ea-5602cdc721a3"
      },
      "execution_count": null,
      "outputs": [
        {
          "output_type": "stream",
          "name": "stdout",
          "text": [
            "0\n",
            "1\n",
            "2\n",
            "3\n",
            "4\n",
            "5\n",
            "6\n",
            "7\n",
            "8\n",
            "9\n"
          ]
        }
      ]
    },
    {
      "cell_type": "code",
      "source": [
        "# Como dessa vez eu utilizei um valor inicial que é 2 ele ira printar do (2 ate o 21)\n",
        "for x in range (2, 21):\n",
        "  print(x)"
      ],
      "metadata": {
        "colab": {
          "base_uri": "https://localhost:8080/"
        },
        "id": "3cG8ls_OyloN",
        "outputId": "2df7f181-b38b-49d5-9021-8c86fd6dd580"
      },
      "execution_count": null,
      "outputs": [
        {
          "output_type": "stream",
          "name": "stdout",
          "text": [
            "2\n",
            "3\n",
            "4\n",
            "5\n",
            "6\n",
            "7\n",
            "8\n",
            "9\n",
            "10\n",
            "11\n",
            "12\n",
            "13\n",
            "14\n",
            "15\n",
            "16\n",
            "17\n",
            "18\n",
            "19\n",
            "20\n"
          ]
        }
      ]
    },
    {
      "cell_type": "code",
      "source": [
        "# Aqui foi definido o inicio 2 o fim que é 21 e o passo a passo que  é 2 isso irar print pulando de dois em dois\n",
        "\n",
        "for j in range(2, 21, 2):\n",
        "  print(j)"
      ],
      "metadata": {
        "colab": {
          "base_uri": "https://localhost:8080/"
        },
        "id": "mnA7QkCvy4bK",
        "outputId": "c7420f0b-3049-462f-bc5e-6910475d66e9"
      },
      "execution_count": null,
      "outputs": [
        {
          "output_type": "stream",
          "name": "stdout",
          "text": [
            "2\n",
            "4\n",
            "6\n",
            "8\n",
            "10\n",
            "12\n",
            "14\n",
            "16\n",
            "18\n",
            "20\n"
          ]
        }
      ]
    },
    {
      "cell_type": "code",
      "source": [
        "# Imprime uma mensagem ao termino do loop\n",
        "\n",
        "# Aqui utilizamos o for con else: Ele imprimi a lista for com o termino exibi uma mensagem que esta no else\n",
        "for i in range(1, 10):\n",
        "  print(i)\n",
        "else:\n",
        "  print(\"Fim da execução do for!\")"
      ],
      "metadata": {
        "colab": {
          "base_uri": "https://localhost:8080/"
        },
        "id": "B24YKP_Szdf-",
        "outputId": "256d1f0f-ec5d-4521-c3a1-eb4605500ec9"
      },
      "execution_count": null,
      "outputs": [
        {
          "output_type": "stream",
          "name": "stdout",
          "text": [
            "1\n",
            "2\n",
            "3\n",
            "4\n",
            "5\n",
            "6\n",
            "7\n",
            "8\n",
            "9\n",
            "Fim da execução do for!\n"
          ]
        }
      ]
    },
    {
      "cell_type": "markdown",
      "source": [
        "# While\n",
        "\n",
        "O laço de repetição While é uma estrutura de repetição que continua executando um bloco de codigo enquanto a condição for verdadeira\n",
        "\n",
        "Sendo assim, quando execução se torna falsa, o loop para"
      ],
      "metadata": {
        "id": "CzzConn-z9DS"
      }
    },
    {
      "cell_type": "code",
      "source": [
        "# Sintaxe do comando while\n",
        "\n",
        "'''\n",
        "While condição: (Enquanto a condição for verdadeira)\n",
        "    Executar o bloco de comandos (codigo)\n",
        "\n",
        "\n",
        "'''\n"
      ],
      "metadata": {
        "id": "b2NBc6Z00ULL"
      },
      "execution_count": null,
      "outputs": []
    },
    {
      "cell_type": "code",
      "source": [
        "#Exemplo de utilização em contador de 1 ate 10\n",
        "\n",
        "i = 1\n",
        "\n",
        "# Neste comando usamos while para ir de 1 a 10 e concatenamos com a String \"Contagen\", i para incrementar apos o print\n",
        "while i <= 10:\n",
        "  print('Contagem: ', i)\n",
        "  i += 1"
      ],
      "metadata": {
        "colab": {
          "base_uri": "https://localhost:8080/"
        },
        "id": "2vjyTSjN1B-R",
        "outputId": "62d1b83e-fc26-4f97-9dea-474cf5f7e447"
      },
      "execution_count": null,
      "outputs": [
        {
          "output_type": "stream",
          "name": "stdout",
          "text": [
            "Contagem:  1\n",
            "Contagem:  2\n",
            "Contagem:  3\n",
            "Contagem:  4\n",
            "Contagem:  5\n",
            "Contagem:  6\n",
            "Contagem:  7\n",
            "Contagem:  8\n",
            "Contagem:  9\n",
            "Contagem:  10\n"
          ]
        }
      ]
    },
    {
      "cell_type": "code",
      "source": [
        "# Loop Inifinito atenção !!!! Pode travar\n",
        "# se esquecer essa linha i += 1, gera um loop infinito\n",
        "\n"
      ],
      "metadata": {
        "id": "9QwQS2pu1xou"
      },
      "execution_count": null,
      "outputs": []
    },
    {
      "cell_type": "code",
      "source": [
        "# Validação de String com while\n",
        "# Aqui consigo executar algumas condições quando são verdadeiras\n",
        "\n",
        "senha = int(input(\"Digite sua senha\"))\n",
        "\n",
        "while senha != \"Python\":\n",
        "  print(\"Senha errada\")\n",
        "  senha = input(\" Tente novamente\")\n",
        "\n",
        "\n",
        "print(\"Senha correta. Acesso liberado.\")\n"
      ],
      "metadata": {
        "colab": {
          "base_uri": "https://localhost:8080/"
        },
        "id": "ZwBM_U1x2Frt",
        "outputId": "ac5589ed-7735-4753-c045-4834319e3012"
      },
      "execution_count": null,
      "outputs": [
        {
          "output_type": "stream",
          "name": "stdout",
          "text": [
            "Digite sua senha12345\n",
            "Senha errada\n",
            " Tente novamentePython\n",
            "Senha correta. Acesso liberado.\n"
          ]
        }
      ]
    },
    {
      "cell_type": "code",
      "source": [
        "#Usuario tem que digitar um valor entre 1 e 10\n",
        "\n",
        "#Solictamos para que o usario digite um número entre 1 e 10 ele armazena o nuemro digitado\n",
        "numero = int(input(\"Digite um número entre 1 e 10\"))\n",
        "\n",
        "\n",
        "# Geramos um loop e conferimos se o numero esta entre 1 e 10\n",
        "while numero < 1 or numero > 10:\n",
        "  numero = int(input(\"Número invalido! Digite um número entre 1 e 10\"))\n",
        "\n",
        "# O numero digitado é retornado e printado\n",
        "print(\"Número valido! O número digitado foi: \", numero)"
      ],
      "metadata": {
        "colab": {
          "base_uri": "https://localhost:8080/"
        },
        "id": "4rUBvrqI4YQ0",
        "outputId": "73425855-34a1-4d91-bf3c-17d9495ef44a"
      },
      "execution_count": null,
      "outputs": [
        {
          "output_type": "stream",
          "name": "stdout",
          "text": [
            "Digite um número entre 1 e 10-10\n",
            "Número invalido! Digite um número entre 1 e 1050\n",
            "Número invalido! Digite um número entre 1 e 1010\n",
            "Número valido! O número digitado foi:  10\n"
          ]
        }
      ]
    },
    {
      "cell_type": "code",
      "source": [
        "# Intruções do while True\n",
        "\n",
        "# Esta função serve de exemplo um gerador de senha. Como funciona pedimos para usuario digitar a senha e ele so acessa se a senha for a correta se nao ele fica reepetindo\n",
        "\n",
        "'''\n",
        "While True:\n",
        "    Executa o bloco de codigo\n",
        "    if condicao: (Se a condição for verdadeira)\n",
        "        Executa esse bloco (break)\n",
        "'''\n"
      ],
      "metadata": {
        "id": "dMgae3lX5f9C"
      },
      "execution_count": null,
      "outputs": []
    },
    {
      "cell_type": "code",
      "source": [
        "while True:\n",
        "  Senha = input((\"Digite a sua senha: \"))\n",
        "  if Senha == \"Python\":\n",
        "    print(\"Acesso liberado\")\n",
        "    break\n",
        "  else:\n",
        "    print(\"Senha incorreta! Digite novamente!\")\n",
        "\n"
      ],
      "metadata": {
        "colab": {
          "base_uri": "https://localhost:8080/"
        },
        "id": "nrT_5wYb6Gf2",
        "outputId": "74f87c90-ace0-4e5a-aea5-e8e91269e6c2"
      },
      "execution_count": null,
      "outputs": [
        {
          "output_type": "stream",
          "name": "stdout",
          "text": [
            "Digite a sua senha: 12345\n",
            "Senha incorreta! Digite novamente!\n",
            "Digite a sua senha: Python\n",
            "Acesso liberado\n"
          ]
        }
      ]
    },
    {
      "cell_type": "code",
      "source": [
        "#Intrução while True - Leia numeros e imprima na tela até o usuario digitar o numero 0.\n",
        "\n",
        "while True:\n",
        "  numeros = int(input(\"Digite um numero inteiro: \"))\n",
        "  if numeros == 0:\n",
        "    print(\"Programa encerrado\")\n",
        "    break\n",
        "  else:\n",
        "    print(\"O numero digitado foi: \", numeros)\n"
      ],
      "metadata": {
        "colab": {
          "base_uri": "https://localhost:8080/"
        },
        "id": "jXJE50RQ7Ifg",
        "outputId": "a61724a5-a312-4868-d149-3f33c3993bed"
      },
      "execution_count": null,
      "outputs": [
        {
          "output_type": "stream",
          "name": "stdout",
          "text": [
            "Digite um numero inteiro: 10\n",
            "O numero digitado foi:  10\n",
            "Digite um numero inteiro: 2\n",
            "O numero digitado foi:  2\n",
            "Digite um numero inteiro: 0\n",
            "Programa encerrado\n"
          ]
        }
      ]
    },
    {
      "cell_type": "code",
      "source": [
        "#Comando break\n",
        "i = 1\n",
        "\n",
        "# Aqui eu peço para meu while de 1 ate 10, mas logo abaixo eu coloco um if i == 3 ele para no break\n",
        "while i < 10:\n",
        "  print(i)\n",
        "  if i == 3:\n",
        "    break\n",
        "  i += 1"
      ],
      "metadata": {
        "colab": {
          "base_uri": "https://localhost:8080/"
        },
        "id": "R7uILD9v-bIh",
        "outputId": "e2297bf8-3f58-4293-941e-5cc21aede2ef"
      },
      "execution_count": null,
      "outputs": [
        {
          "output_type": "stream",
          "name": "stdout",
          "text": [
            "1\n",
            "2\n",
            "3\n"
          ]
        }
      ]
    },
    {
      "cell_type": "code",
      "source": [
        "# Comando continue - Imprima de 1 a 20, com exceção do mumero 10\n",
        "x = 1\n",
        "\n",
        "while x < 20:\n",
        "  x += 1\n",
        "  if x == 10:\n",
        "    continue\n",
        "  else:\n",
        "    print(x)\n"
      ],
      "metadata": {
        "colab": {
          "base_uri": "https://localhost:8080/"
        },
        "id": "nV8r90_g_Aqj",
        "outputId": "bfe6c73c-e3c0-4205-e313-702053c210e0"
      },
      "execution_count": null,
      "outputs": [
        {
          "output_type": "stream",
          "name": "stdout",
          "text": [
            "2\n",
            "3\n",
            "4\n",
            "5\n",
            "6\n",
            "7\n",
            "8\n",
            "9\n",
            "11\n",
            "12\n",
            "13\n",
            "14\n",
            "15\n",
            "16\n",
            "17\n",
            "18\n",
            "19\n",
            "20\n"
          ]
        }
      ]
    },
    {
      "cell_type": "markdown",
      "source": [
        "# Strings\n",
        "\n",
        "Uma string é uma variavel do tipo texto. Ela possui diversos métodos. O tipo de dados de uma string\n",
        "em python é o str"
      ],
      "metadata": {
        "id": "FQ--1r0hLuiY"
      }
    },
    {
      "cell_type": "code",
      "source": [
        "# Criando uma string em python\n",
        "\n",
        "nome = \"George\"\n",
        "nomeII = \"José\"\n",
        "\n"
      ],
      "metadata": {
        "id": "GdOAXESoL-m3"
      },
      "execution_count": null,
      "outputs": []
    },
    {
      "cell_type": "code",
      "source": [
        "# As aspas duplas servem para dar um destaque no \"Python\"\n",
        "texto = 'Estou aprendendo \"python\"'\n",
        "print(texto)"
      ],
      "metadata": {
        "colab": {
          "base_uri": "https://localhost:8080/"
        },
        "id": "9qGiZsOBMGUD",
        "outputId": "d3901297-534c-4514-c608-135647a3c9ac"
      },
      "execution_count": null,
      "outputs": [
        {
          "output_type": "stream",
          "name": "stdout",
          "text": [
            "Estou aprendendo \"python\"\n"
          ]
        }
      ]
    },
    {
      "cell_type": "code",
      "source": [
        "# Tamanho de uma String\n",
        "\n",
        "nome = \"George Emannuel Guedes\"\n",
        "email = \"Georgeemannuel416@gmail.com\"\n",
        "\n",
        "# Esse método len ela serve para contar as caracteres de uma string\n",
        "print(len(nome))\n",
        "print(len(email))\n"
      ],
      "metadata": {
        "colab": {
          "base_uri": "https://localhost:8080/"
        },
        "id": "igBSM8cONC7U",
        "outputId": "f4093598-87a9-426b-ac50-92d37d2c370e"
      },
      "execution_count": null,
      "outputs": [
        {
          "output_type": "stream",
          "name": "stdout",
          "text": [
            "22\n",
            "27\n"
          ]
        }
      ]
    },
    {
      "cell_type": "code",
      "source": [
        "# Operador IN - verifica a existência de um caracter e retorna booleano\n",
        "\n",
        "# Esse metodo verifica se aletra b tem na no meu nome email e retorna um True ou False\n",
        "print('a'in email)\n",
        "\n",
        "# Essa função é muito importante em dados"
      ],
      "metadata": {
        "colab": {
          "base_uri": "https://localhost:8080/"
        },
        "id": "x5Ocpxe1NwL_",
        "outputId": "b2111ddb-9afd-424a-cc7d-3c0152829d67"
      },
      "execution_count": null,
      "outputs": [
        {
          "output_type": "stream",
          "name": "stdout",
          "text": [
            "True\n"
          ]
        }
      ]
    },
    {
      "cell_type": "code",
      "source": [
        "# Operador NOT in - Verifica a existencia de um caractere e retorna booleano\n",
        "\n",
        "# Esse método verifica se tem .com.br no meu email e retorna True ou False\n",
        "print('.com.br' not in email)"
      ],
      "metadata": {
        "colab": {
          "base_uri": "https://localhost:8080/"
        },
        "id": "YW5EDS8nOSDQ",
        "outputId": "e74c13aa-22fb-4e5b-dbfb-a9c945d0d9fd"
      },
      "execution_count": null,
      "outputs": [
        {
          "output_type": "stream",
          "name": "stdout",
          "text": [
            "True\n"
          ]
        }
      ]
    },
    {
      "cell_type": "code",
      "source": [
        "# Cadeia de caracteres - string são imutáveis\n",
        "# Na função abaixo na posição 2 tentamos mudar a letra T para letra O so que não é possivel, por que em String não é possivel realizar essa alteração\n",
        "texto = \"Python\"\n",
        "print(texto[2])\n",
        "texto[0] = 'O'"
      ],
      "metadata": {
        "colab": {
          "base_uri": "https://localhost:8080/",
          "height": 193
        },
        "id": "vFICmtD7OvXA",
        "outputId": "7cb0e2ab-7751-48a8-cc31-2805c03be2c6"
      },
      "execution_count": null,
      "outputs": [
        {
          "output_type": "stream",
          "name": "stdout",
          "text": [
            "t\n"
          ]
        },
        {
          "output_type": "error",
          "ename": "TypeError",
          "evalue": "'str' object does not support item assignment",
          "traceback": [
            "\u001b[0;31m---------------------------------------------------------------------------\u001b[0m",
            "\u001b[0;31mTypeError\u001b[0m                                 Traceback (most recent call last)",
            "\u001b[0;32m/tmp/ipython-input-4264908358.py\u001b[0m in \u001b[0;36m<cell line: 0>\u001b[0;34m()\u001b[0m\n\u001b[1;32m      3\u001b[0m \u001b[0mtexto\u001b[0m \u001b[0;34m=\u001b[0m \u001b[0;34m\"Python\"\u001b[0m\u001b[0;34m\u001b[0m\u001b[0;34m\u001b[0m\u001b[0m\n\u001b[1;32m      4\u001b[0m \u001b[0mprint\u001b[0m\u001b[0;34m(\u001b[0m\u001b[0mtexto\u001b[0m\u001b[0;34m[\u001b[0m\u001b[0;36m2\u001b[0m\u001b[0;34m]\u001b[0m\u001b[0;34m)\u001b[0m\u001b[0;34m\u001b[0m\u001b[0;34m\u001b[0m\u001b[0m\n\u001b[0;32m----> 5\u001b[0;31m \u001b[0mtexto\u001b[0m\u001b[0;34m[\u001b[0m\u001b[0;36m0\u001b[0m\u001b[0;34m]\u001b[0m \u001b[0;34m=\u001b[0m \u001b[0;34m'O'\u001b[0m\u001b[0;34m\u001b[0m\u001b[0;34m\u001b[0m\u001b[0m\n\u001b[0m",
            "\u001b[0;31mTypeError\u001b[0m: 'str' object does not support item assignment"
          ]
        }
      ]
    },
    {
      "cell_type": "code",
      "source": [
        "# Método capitalize\n",
        "# O método capitalize serve para deixar somente a primeira letra maiscula o restante fica minusculo\n",
        "\n",
        "print(nome)\n",
        "nome = \"George Emannuel Guedes\"\n",
        "nome = nome.capitalize()\n",
        "print(nome)"
      ],
      "metadata": {
        "colab": {
          "base_uri": "https://localhost:8080/"
        },
        "id": "kerXw162PXEU",
        "outputId": "84f35417-8b8e-4cc8-a86d-6d65a6111851"
      },
      "execution_count": null,
      "outputs": [
        {
          "output_type": "stream",
          "name": "stdout",
          "text": [
            "George Emannuel Guedes\n",
            "George emannuel guedes\n"
          ]
        }
      ]
    },
    {
      "cell_type": "code",
      "source": [
        "# Deixar todas as letras da String em caixa alta\n",
        "# O metodo upper deixa todas as letra sme caixa alta\n",
        "# O metodo lower serve para deixar em caixa baixa\n",
        "\n",
        "fruta = 'laranja'\n",
        "\n",
        "print(fruta)\n",
        "fruta = fruta.upper()\n",
        "print(fruta)"
      ],
      "metadata": {
        "colab": {
          "base_uri": "https://localhost:8080/"
        },
        "id": "3D5t1HYnPvkY",
        "outputId": "ca0a2884-e91e-4755-8ed0-a0f515499083"
      },
      "execution_count": null,
      "outputs": [
        {
          "output_type": "stream",
          "name": "stdout",
          "text": [
            "laranja\n",
            "LARANJA\n"
          ]
        }
      ]
    },
    {
      "cell_type": "code",
      "source": [
        "# Contar quantas vezes um caractere aparece em uma String\n",
        "\n",
        "# Aqui usamos o metodo count ele é usado para você contar quantas caracteres aparece em um String\n",
        "\n",
        "email = \"George.emannuelcarvalho@gmail.com\"\n",
        "print(email.count('ma'))"
      ],
      "metadata": {
        "colab": {
          "base_uri": "https://localhost:8080/"
        },
        "id": "pDYjn7IYQd2h",
        "outputId": "9f498906-b0df-450b-8137-3b12bbec0b56"
      },
      "execution_count": null,
      "outputs": [
        {
          "output_type": "stream",
          "name": "stdout",
          "text": [
            "2\n"
          ]
        }
      ]
    },
    {
      "cell_type": "code",
      "source": [
        "# Metodo \"find\" para mostra uma posição de caractere em uma String\n",
        "\n",
        "#Iniciando do zero aqui vamos contar as caracteres que tem  String\n",
        "\n",
        "print(email.find('.com'))"
      ],
      "metadata": {
        "colab": {
          "base_uri": "https://localhost:8080/"
        },
        "id": "k1NDwOy_RUFd",
        "outputId": "140de1e2-e904-4de0-f782-c084ff27d105"
      },
      "execution_count": null,
      "outputs": [
        {
          "output_type": "stream",
          "name": "stdout",
          "text": [
            "29\n"
          ]
        }
      ]
    },
    {
      "cell_type": "code",
      "source": [
        "# Metodo para verificar se uma String começa com um caractere ou sequencia de caracteres especificos\n",
        "\n",
        "print (email.startswith('George'))\n"
      ],
      "metadata": {
        "colab": {
          "base_uri": "https://localhost:8080/"
        },
        "id": "oIeu2_FjichB",
        "outputId": "0d5131a7-b9ba-4f5a-ec65-243daf435821"
      },
      "execution_count": null,
      "outputs": [
        {
          "output_type": "stream",
          "name": "stdout",
          "text": [
            "True\n"
          ]
        }
      ]
    },
    {
      "cell_type": "code",
      "source": [
        "# Método para verificar se uma string termina com carcatere ou sequencia de carcateres especificos\n",
        "\n",
        "print(email.endswith('.com'))"
      ],
      "metadata": {
        "colab": {
          "base_uri": "https://localhost:8080/"
        },
        "id": "Wr6i8U-bi68M",
        "outputId": "7da83be7-e95e-4e3c-8e1c-503ae048b758"
      },
      "execution_count": null,
      "outputs": [
        {
          "output_type": "stream",
          "name": "stdout",
          "text": [
            "True\n"
          ]
        }
      ]
    },
    {
      "cell_type": "code",
      "source": [
        "# Metodo para verificar se o conteudo de uma string é númerico ou não\n",
        "\n",
        "# Aqui retorna falso por que temos carcateres especiais e essa função so retorna True se tiver Números\n",
        "cpf = '082.157.573-80'\n",
        "print(cpf.isnumeric())\n"
      ],
      "metadata": {
        "colab": {
          "base_uri": "https://localhost:8080/"
        },
        "id": "7HtgalPijVD8",
        "outputId": "271fdd71-09bf-4acc-beda-ec61689a4c81"
      },
      "execution_count": null,
      "outputs": [
        {
          "output_type": "stream",
          "name": "stdout",
          "text": [
            "False\n"
          ]
        }
      ]
    },
    {
      "cell_type": "code",
      "source": [
        "# Método para verificar se o conteudo de uma string é de apenas letras\n",
        "\n",
        "texto = \"abcdef\"\n",
        "print(texto.isalpha())"
      ],
      "metadata": {
        "colab": {
          "base_uri": "https://localhost:8080/"
        },
        "id": "BKwyuoHrj396",
        "outputId": "ac32ef6d-5798-44bb-bfde-1045ac2f13fb"
      },
      "execution_count": null,
      "outputs": [
        {
          "output_type": "stream",
          "name": "stdout",
          "text": [
            "True\n"
          ]
        }
      ]
    },
    {
      "cell_type": "code",
      "source": [
        "# Método para verificar se o conteudo de uma String é uma combinação de letras e numeros\n",
        "\n",
        "animal = 'Cachorro23'\n",
        "\n",
        "print(animal.isalnum())"
      ],
      "metadata": {
        "colab": {
          "base_uri": "https://localhost:8080/"
        },
        "id": "bnrBgBYDkIZp",
        "outputId": "80a1f5eb-5aea-4de9-b35c-43feec67d21a"
      },
      "execution_count": null,
      "outputs": [
        {
          "output_type": "stream",
          "name": "stdout",
          "text": [
            "False\n"
          ]
        }
      ]
    },
    {
      "cell_type": "code",
      "source": [
        "# Método para remover espaços indesajados\n",
        "\n",
        "animal = \"   cachorro        \"\n",
        "print(len(animal))\n",
        "\n",
        "animal = animal.strip()\n",
        "\n",
        "print(animal)\n",
        "print(len(animal))"
      ],
      "metadata": {
        "colab": {
          "base_uri": "https://localhost:8080/"
        },
        "id": "mEn-8kSCkpQY",
        "outputId": "29238a65-958f-4eaa-9ace-791df5747ff6"
      },
      "execution_count": null,
      "outputs": [
        {
          "output_type": "stream",
          "name": "stdout",
          "text": [
            "19\n",
            "cachorro\n",
            "8\n"
          ]
        }
      ]
    },
    {
      "cell_type": "code",
      "source": [
        "# Metodo para substituir uma palavra por outro\n",
        "\n",
        "trasporte = \"ônibus\"\n",
        "\n",
        "print(trasporte)\n",
        "\n",
        "trasporte = trasporte.replace('ô', 'i')\n",
        "print(trasporte)\n",
        "\n",
        "\n"
      ],
      "metadata": {
        "colab": {
          "base_uri": "https://localhost:8080/"
        },
        "id": "lSRFUpGglXc6",
        "outputId": "726d8ead-7c1a-4e91-b9ef-a13d2e0ace43"
      },
      "execution_count": null,
      "outputs": [
        {
          "output_type": "stream",
          "name": "stdout",
          "text": [
            "ônibus\n",
            "inibus\n"
          ]
        }
      ]
    },
    {
      "cell_type": "code",
      "source": [
        "# Metodo para \"Recortar\" uma string com determinado delimitador\n",
        "\n",
        "# Esse metodo serve como seprador\n",
        "\n",
        "nome_completo = \"Jose inacio ribeiro\"\n",
        "\n",
        "print(nome_completo)\n",
        "\n",
        "nome_completo = nome_completo.split()\n",
        "print(nome_completo)"
      ],
      "metadata": {
        "colab": {
          "base_uri": "https://localhost:8080/"
        },
        "id": "6QZx6BK1l-6_",
        "outputId": "6dea192d-874c-4eb7-8137-84f6905db920"
      },
      "execution_count": null,
      "outputs": [
        {
          "output_type": "stream",
          "name": "stdout",
          "text": [
            "Jose inacio ribeiro\n",
            "['Jose', 'inacio', 'ribeiro']\n"
          ]
        }
      ]
    },
    {
      "cell_type": "markdown",
      "source": [
        "# Percorrendo  String"
      ],
      "metadata": {
        "id": "RCebp8O25Qgh"
      }
    },
    {
      "cell_type": "code",
      "source": [
        "# Percorrendo uma string com for\n",
        "\n",
        "texto = \"Python para dados\"\n",
        "\n",
        "for i in texto:\n",
        "  print(i)"
      ],
      "metadata": {
        "colab": {
          "base_uri": "https://localhost:8080/"
        },
        "id": "lPbgKTPo5j__",
        "outputId": "1971e67f-0778-4231-c9f4-eb4b9787a312"
      },
      "execution_count": null,
      "outputs": [
        {
          "output_type": "stream",
          "name": "stdout",
          "text": [
            "P\n",
            "y\n",
            "t\n",
            "h\n",
            "o\n",
            "n\n",
            " \n",
            "p\n",
            "a\n",
            "r\n",
            "a\n",
            " \n",
            "d\n",
            "a\n",
            "d\n",
            "o\n",
            "s\n"
          ]
        }
      ]
    },
    {
      "cell_type": "code",
      "source": [
        "# Percorrendo uma string com while\n",
        "\n",
        "texto = \"Python para dados\"\n",
        "print(texto)\n",
        "\n",
        "i = 0\n",
        "while i < len(texto):\n",
        "  print(i)\n",
        "  i += 1"
      ],
      "metadata": {
        "colab": {
          "base_uri": "https://localhost:8080/"
        },
        "id": "TawcljxF5xAr",
        "outputId": "b21d292f-5184-4595-d4a5-81054bd900ed"
      },
      "execution_count": null,
      "outputs": [
        {
          "output_type": "stream",
          "name": "stdout",
          "text": [
            "Python para dados\n",
            "0\n",
            "1\n",
            "2\n",
            "3\n",
            "4\n",
            "5\n",
            "6\n",
            "7\n",
            "8\n",
            "9\n",
            "10\n",
            "11\n",
            "12\n",
            "13\n",
            "14\n",
            "15\n",
            "16\n"
          ]
        }
      ]
    },
    {
      "cell_type": "code",
      "source": [
        "# Fatiamento de Strings\n",
        "\n",
        "# O passo é de quantos em quantos eu quero que percorra na lista\n",
        "\n",
        "texto = \"Python para dados\"\n",
        "\n",
        "'''\n",
        "texto[inicio: fim - 1: passo]\n",
        "\n",
        "'''"
      ],
      "metadata": {
        "id": "vOWoggx_6b3x"
      },
      "execution_count": null,
      "outputs": []
    },
    {
      "cell_type": "code",
      "source": [
        "# Fatiamento de String\n",
        "\n",
        "print(texto[0])\n",
        "print(texto[-1])\n",
        "\n",
        "print(texto[2: 10: 1])\n",
        "\n",
        "print(texto[::])"
      ],
      "metadata": {
        "colab": {
          "base_uri": "https://localhost:8080/"
        },
        "id": "2VslaDua6yBk",
        "outputId": "1d838ee6-c84d-4869-9d5b-a4af16faddd5"
      },
      "execution_count": null,
      "outputs": [
        {
          "output_type": "stream",
          "name": "stdout",
          "text": [
            "P\n",
            "s\n",
            "thon par\n",
            "Python para dados\n"
          ]
        }
      ]
    },
    {
      "cell_type": "markdown",
      "source": [
        "# Formatação de String"
      ],
      "metadata": {
        "id": "2879MRzR8nTv"
      }
    },
    {
      "cell_type": "code",
      "source": [
        "nome = input(\"Digite seu nome: \")\n",
        "idade = int(input(\"Digite sua idade: \"))\n",
        "\n",
        "print(f\"O seu nome é {nome} e a sua idade é {idade}\")\n"
      ],
      "metadata": {
        "colab": {
          "base_uri": "https://localhost:8080/"
        },
        "id": "YTMSTlDI8p1I",
        "outputId": "0cdaab9d-c1c5-4c37-fab0-de64626380c4"
      },
      "execution_count": null,
      "outputs": [
        {
          "output_type": "stream",
          "name": "stdout",
          "text": [
            "Digite seu nome: george\n",
            "Digite sua idade: 22\n",
            "O seu nome é george e a sua idade é 22\n"
          ]
        }
      ]
    },
    {
      "cell_type": "code",
      "source": [
        "# Formatar numeros float\n",
        "\n",
        "preco = 49.95823\n",
        "\n",
        "print(f\"preço do produto é {preco:.2f}\")\n"
      ],
      "metadata": {
        "colab": {
          "base_uri": "https://localhost:8080/"
        },
        "id": "lIXcgSIA9O66",
        "outputId": "4176cb82-19d0-49bf-c63a-43f912b9cd27"
      },
      "execution_count": null,
      "outputs": [
        {
          "output_type": "stream",
          "name": "stdout",
          "text": [
            "preço do produto é 49.96\n"
          ]
        }
      ]
    },
    {
      "cell_type": "code",
      "source": [
        "# Fomatar números inteiros (preenchimento com zeros)\n",
        "\n",
        "numero = 7\n",
        "print(f\"O numero é: {numero:07}\")\n"
      ],
      "metadata": {
        "colab": {
          "base_uri": "https://localhost:8080/"
        },
        "id": "1TBD3diH9iAs",
        "outputId": "35654938-085d-4be8-d987-2479f2cc050c"
      },
      "execution_count": null,
      "outputs": [
        {
          "output_type": "stream",
          "name": "stdout",
          "text": [
            "O numero é: 0000007\n"
          ]
        }
      ]
    },
    {
      "cell_type": "code",
      "source": [
        "# Alinhar textos: á esquerda direita e centralizado\n",
        "\n",
        "texto = \"Python\"\n",
        "print(f\"{texto:<10} - alinhado a esquerda\")\n",
        "print(f\"{texto:>10} - alinhado a direita\")\n",
        "print(f\"{texto:^10} - alinhado ao centro\")"
      ],
      "metadata": {
        "colab": {
          "base_uri": "https://localhost:8080/"
        },
        "id": "HSKtxGnY90cc",
        "outputId": "16567e84-5e71-45ad-bea6-435c764261df"
      },
      "execution_count": null,
      "outputs": [
        {
          "output_type": "stream",
          "name": "stdout",
          "text": [
            "Python    \n",
            "    Python\n",
            "  Python  \n"
          ]
        }
      ]
    },
    {
      "cell_type": "code",
      "source": [
        "#Inserir separados de milhar\n",
        "#Aqui separamos as casas por virgula\n",
        "valor = 1234567\n",
        "print(f\"Valor formatado{valor:,}\")"
      ],
      "metadata": {
        "colab": {
          "base_uri": "https://localhost:8080/"
        },
        "id": "KSV4I9I-_CsD",
        "outputId": "0250b571-e5cd-4000-e9ec-aa956c5f5c5b"
      },
      "execution_count": null,
      "outputs": [
        {
          "output_type": "stream",
          "name": "stdout",
          "text": [
            "Valor formatado1,234,567\n"
          ]
        }
      ]
    },
    {
      "cell_type": "code",
      "source": [
        "#Exibir porcentagem\n",
        "\n",
        "taxa = 0.085\n",
        "\n",
        "print(f\"taxa de crescimento: {taxa:.2%}\")\n"
      ],
      "metadata": {
        "colab": {
          "base_uri": "https://localhost:8080/"
        },
        "id": "ueXYYYB1_UvI",
        "outputId": "1523fda8-c471-4773-d9be-c939e840d925"
      },
      "execution_count": null,
      "outputs": [
        {
          "output_type": "stream",
          "name": "stdout",
          "text": [
            "taxa de crescimento: 8.50%\n"
          ]
        }
      ]
    },
    {
      "cell_type": "code",
      "source": [
        "# Representar números em diferentes bases (binario, hexadecimal, octal)\n",
        "\n",
        "numero = 255\n",
        "print(f\"Binario: {numero:b}\")\n",
        "print(f\"Octal: {numero:o}\")\n",
        "print(f\"Hexadecimal: {numero:x}\")"
      ],
      "metadata": {
        "colab": {
          "base_uri": "https://localhost:8080/"
        },
        "id": "2QDw0xkL_pnB",
        "outputId": "6dd63f93-6340-48b2-f61b-08800bb477c7"
      },
      "execution_count": null,
      "outputs": [
        {
          "output_type": "stream",
          "name": "stdout",
          "text": [
            "Binario: 11111111\n",
            "Octal: 377\n",
            "Hexadecimal: ff\n"
          ]
        }
      ]
    },
    {
      "cell_type": "code",
      "source": [
        "# Calculo e funções direntamente nas chaves\n",
        "\n",
        "a = 5\n",
        "b = 3\n",
        "\n",
        "print(f\"A soma entre os numeros {a} + {b} é = {a + b}\")"
      ],
      "metadata": {
        "colab": {
          "base_uri": "https://localhost:8080/"
        },
        "id": "abaYagV-AMoX",
        "outputId": "6e1db2b7-f3ad-4ac4-d247-5d6c2ccaf335"
      },
      "execution_count": null,
      "outputs": [
        {
          "output_type": "stream",
          "name": "stdout",
          "text": [
            "A soma entre os numeros 5 + 3 é = 8\n"
          ]
        }
      ]
    },
    {
      "cell_type": "code",
      "source": [
        "#Apresentando o faturamento de uma empresa\n",
        "\n",
        "nome_da_empresa = \"DataCorp\"\n",
        "faturamento = 15000000\n",
        "print(f\"A empresa {nome_da_empresa} faturou R$ {faturamento:,.2f} neste mês \")"
      ],
      "metadata": {
        "colab": {
          "base_uri": "https://localhost:8080/"
        },
        "id": "GpRvT0anAg8l",
        "outputId": "e265d80c-3ea0-44fd-d0bc-f996771c54a4"
      },
      "execution_count": null,
      "outputs": [
        {
          "output_type": "stream",
          "name": "stdout",
          "text": [
            "A empresa DataCorp faturou R$ 15,000,000.00 neste mês \n"
          ]
        }
      ]
    }
  ]
}